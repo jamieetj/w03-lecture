{
 "cells": [
  {
   "cell_type": "markdown",
   "metadata": {
    "slideshow": {
     "slide_type": "slide"
    }
   },
   "source": [
    "# Week 3: Conditional statements, while loops, and debugging basics\n",
    "\n",
    "Charlotte Desvages"
   ]
  },
  {
   "cell_type": "markdown",
   "metadata": {
    "slideshow": {
     "slide_type": "slide"
    }
   },
   "source": [
    "## Conditional statements\n",
    "\n",
    "Conditional statements allow you to **create branches** in your code, and with the help of Booleans, to **make decisions** about which path(s) to take.\n",
    "\n",
    "They are another **control flow** tool (like loops or functions)."
   ]
  },
  {
   "cell_type": "code",
   "execution_count": 1,
   "metadata": {
    "slideshow": {
     "slide_type": "fragment"
    }
   },
   "outputs": [
    {
     "name": "stdout",
     "output_type": "stream",
     "text": [
      "You are too young to drive!\n"
     ]
    }
   ],
   "source": [
    "age = int(input('How old are you? '))\n",
    "license = input('Do you have a driving license? Y/N ')\n",
    "\n",
    "if age >= 17:\n",
    "    if license in ['Y', 'y', 'yes']:\n",
    "        print('You can drive in the UK.')\n",
    "    elif license in ['N', 'n', 'no']:\n",
    "        print('Get your license!')\n",
    "    else:\n",
    "        print('I didn\\'t get that...')\n",
    "else:\n",
    "    print('You are too young to drive!')"
   ]
  },
  {
   "cell_type": "markdown",
   "metadata": {
    "slideshow": {
     "slide_type": "slide"
    }
   },
   "source": [
    "## `while` loops\n",
    "\n",
    "`while` loops continue looping *as long as* a certain condition is `True`."
   ]
  },
  {
   "cell_type": "code",
   "execution_count": 1,
   "metadata": {
    "slideshow": {
     "slide_type": "fragment"
    }
   },
   "outputs": [
    {
     "name": "stdout",
     "output_type": "stream",
     "text": [
      "1\n"
     ]
    }
   ],
   "source": [
    "def GCD(m, n):\n",
    "    '''\n",
    "    Returns the greatest common divisor of integers m and n.\n",
    "    '''\n",
    "    d = min(m, n)\n",
    "    while m % d != 0 or n % d != 0:\n",
    "        d = d - 1\n",
    "    return d\n",
    "\n",
    "print(GCD(1, 40))"
   ]
  },
  {
   "cell_type": "markdown",
   "metadata": {
    "slideshow": {
     "slide_type": "slide"
    }
   },
   "source": [
    "## Stopping a loop early with `break`\n",
    "\n",
    "It is useful sometimes to interrupt a loop early if a given condition is satisfied."
   ]
  },
  {
   "cell_type": "code",
   "execution_count": 2,
   "metadata": {
    "slideshow": {
     "slide_type": "slide"
    }
   },
   "outputs": [
    {
     "name": "stdout",
     "output_type": "stream",
     "text": [
      "|     o   |\n",
      "|    o    |\n",
      "|     o   |\n",
      "|      o  |\n",
      "|     o   |\n",
      "|      o  |\n",
      "|       o |\n",
      "|        o|\n",
      "Went into the ditch! :(\n"
     ]
    }
   ],
   "source": [
    "import time\n",
    "import numpy as np\n",
    "\n",
    "road_size = 4\n",
    "max_steps = 20\n",
    "\n",
    "rng = np.random.default_rng()    # random number generator\n",
    "pos = 0    # start from the middle of the road\n",
    "steps = 0\n",
    "\n",
    "while True:    # keep walking...\n",
    "    n = rng.choice([-1, 1])    # Random choice: left (-1) or right (+1)\n",
    "    pos += n                   # Update position\n",
    "    steps += 1                 # Update number of steps\n",
    "\n",
    "    if abs(pos) > road_size:   # If we went off the road, stop the loop early, display a message\n",
    "        print('Went into the ditch! :(')\n",
    "        break\n",
    "\n",
    "    # Show the step\n",
    "    print('|' + ' '*(road_size + pos) + 'o' + ' '*(road_size - pos) + '|')\n",
    "    time.sleep(.3)\n",
    "\n",
    "    if steps >= max_steps:\n",
    "        print('Success! :)')\n",
    "        break"
   ]
  },
  {
   "cell_type": "markdown",
   "metadata": {
    "slideshow": {
     "slide_type": "slide"
    }
   },
   "source": [
    "## Understanding runtime errors\n",
    "\n",
    "A **runtime error** happens when Python doesn't know how to deal with something. Luckily, when this happens, Python tries to help you find the error by showing you an **error trace**."
   ]
  },
  {
   "cell_type": "code",
   "execution_count": 3,
   "metadata": {
    "slideshow": {
     "slide_type": "fragment"
    }
   },
   "outputs": [
    {
     "name": "stdout",
     "output_type": "stream",
     "text": [
      "16\n"
     ]
    },
    {
     "ename": "TypeError",
     "evalue": "unsupported operand type(s) for ** or pow(): 'str' and 'int'",
     "output_type": "error",
     "traceback": [
      "\u001b[0;31m---------------------------------------------------------------------------\u001b[0m",
      "\u001b[0;31mTypeError\u001b[0m                                 Traceback (most recent call last)",
      "\u001b[1;32m/workspaces/w03-lecture/week03_video.ipynb Cell 9\u001b[0m line \u001b[0;36m6\n\u001b[1;32m      <a href='vscode-notebook-cell://codespaces%2Bvigilant-space-meme-4j7pqrw5459phj76g/workspaces/w03-lecture/week03_video.ipynb#X11sdnNjb2RlLXJlbW90ZQ%3D%3D?line=2'>3</a>\u001b[0m     \u001b[39mreturn\u001b[39;00m x \u001b[39m*\u001b[39m\u001b[39m*\u001b[39m \u001b[39m2\u001b[39m\n\u001b[1;32m      <a href='vscode-notebook-cell://codespaces%2Bvigilant-space-meme-4j7pqrw5459phj76g/workspaces/w03-lecture/week03_video.ipynb#X11sdnNjb2RlLXJlbW90ZQ%3D%3D?line=4'>5</a>\u001b[0m \u001b[39mprint\u001b[39m(my_func(\u001b[39m4\u001b[39m))\n\u001b[0;32m----> <a href='vscode-notebook-cell://codespaces%2Bvigilant-space-meme-4j7pqrw5459phj76g/workspaces/w03-lecture/week03_video.ipynb#X11sdnNjb2RlLXJlbW90ZQ%3D%3D?line=5'>6</a>\u001b[0m \u001b[39mprint\u001b[39m(my_func(\u001b[39m'\u001b[39;49m\u001b[39mWhy hello there\u001b[39;49m\u001b[39m'\u001b[39;49m))\n",
      "\u001b[1;32m/workspaces/w03-lecture/week03_video.ipynb Cell 9\u001b[0m line \u001b[0;36m3\n\u001b[1;32m      <a href='vscode-notebook-cell://codespaces%2Bvigilant-space-meme-4j7pqrw5459phj76g/workspaces/w03-lecture/week03_video.ipynb#X11sdnNjb2RlLXJlbW90ZQ%3D%3D?line=1'>2</a>\u001b[0m \u001b[39mdef\u001b[39;00m \u001b[39mmy_func\u001b[39m(x):\n\u001b[0;32m----> <a href='vscode-notebook-cell://codespaces%2Bvigilant-space-meme-4j7pqrw5459phj76g/workspaces/w03-lecture/week03_video.ipynb#X11sdnNjb2RlLXJlbW90ZQ%3D%3D?line=2'>3</a>\u001b[0m     \u001b[39mreturn\u001b[39;00m x \u001b[39m*\u001b[39;49m\u001b[39m*\u001b[39;49m \u001b[39m2\u001b[39;49m\n",
      "\u001b[0;31mTypeError\u001b[0m: unsupported operand type(s) for ** or pow(): 'str' and 'int'"
     ]
    }
   ],
   "source": [
    "# Trying to compute the square of a string...\n",
    "def my_func(x):\n",
    "    return x ** 2\n",
    "\n",
    "print(my_func(4))\n",
    "print(my_func('Why hello there'))"
   ]
  }
 ],
 "metadata": {
  "kernelspec": {
   "display_name": "Python 3",
   "language": "python",
   "name": "python3"
  },
  "language_info": {
   "codemirror_mode": {
    "name": "ipython",
    "version": 3
   },
   "file_extension": ".py",
   "mimetype": "text/x-python",
   "name": "python",
   "nbconvert_exporter": "python",
   "pygments_lexer": "ipython3",
   "version": "3.10.10"
  }
 },
 "nbformat": 4,
 "nbformat_minor": 4
}
