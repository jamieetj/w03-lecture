{
 "cells": [
  {
   "cell_type": "markdown",
   "id": "76e82b94-46bd-49d3-8c4e-31eece70f871",
   "metadata": {},
   "source": [
    "# Week 3 lecture"
   ]
  },
  {
   "cell_type": "markdown",
   "id": "86777830-c692-4d9b-87b4-ae2cc385a7b9",
   "metadata": {},
   "source": [
    "## Lists\n",
    "\n",
    "What is the output of this code?"
   ]
  },
  {
   "cell_type": "code",
   "execution_count": 5,
   "id": "c130ce39-a655-430a-91f8-195511d1c2d6",
   "metadata": {},
   "outputs": [
    {
     "name": "stdout",
     "output_type": "stream",
     "text": [
      "[1, 6, 3] [1, 6, 3]\n",
      "5 2\n",
      "[1, 2, 3] [1, 6, 3]\n"
     ]
    }
   ],
   "source": [
    "a = [1, 2, 3]\n",
    "b = a\n",
    "b[1] = 6\n",
    "print(a, b)\n",
    "\n",
    "# example\n",
    "c = 5\n",
    "d = c\n",
    "d = 2\n",
    "print(c,d)\n",
    "\n",
    "# to help u\n",
    "a = [1, 2, 3]\n",
    "b = a.copy() #biar g silap, in order to reuse and keep the original one\n",
    "b[1] = 6\n",
    "print(a,b)\n"
   ]
  },
  {
   "cell_type": "markdown",
   "id": "bbb05fd6-67f0-4de8-a258-83c1893f0519",
   "metadata": {},
   "source": [
    "## List methods\n",
    "\n",
    "[List methods - Python documentation](https://docs.python.org/3/tutorial/datastructures.html)\n",
    "\n",
    "Find the 3 top scores out of a list:"
   ]
  },
  {
   "cell_type": "code",
   "execution_count": 14,
   "id": "e66f1d04-6143-4d57-8ae1-8222d6d9be17",
   "metadata": {},
   "outputs": [
    {
     "name": "stdout",
     "output_type": "stream",
     "text": [
      "92\n",
      "[23, 54, 66, 67, 70, 72, 77, 92]\n",
      "[23, 54, 66]\n",
      "[92, 77, 72]\n"
     ]
    }
   ],
   "source": [
    "all_scores = [23, 67, 92, 54, 77, 66, 72, 70]\n",
    "\n",
    "# show the biggest score\n",
    "print(max(all_scores))\n",
    "\n",
    "# sort the list\n",
    "all_scores.sort()\n",
    "print(all_scores)\n",
    "\n",
    "# top three scores\n",
    "print(all_scores[0:3])\n",
    "\n",
    "# sort the list in desc order\n",
    "all_scores.sort(reverse=True)\n",
    "print(all_scores[0:3])\n"
   ]
  },
  {
   "cell_type": "code",
   "execution_count": 21,
   "id": "05c7abb3",
   "metadata": {},
   "outputs": [
    {
     "name": "stdout",
     "output_type": "stream",
     "text": [
      "[72, 77, 92]\n",
      "[92, 77, 72]\n"
     ]
    }
   ],
   "source": [
    "all_scores = [23, 67, 92, 54, 77, 66, 72, 70]\n",
    "all_scores.sort()\n",
    "print(all_scores[-3:])\n",
    "\n",
    "# will not work = print(all_scores[-1:-4]) -> always go to the right -> result will be []\n",
    "\n",
    "print(all_scores[-1:-4:-1])\n",
    "\n"
   ]
  },
  {
   "cell_type": "code",
   "execution_count": 24,
   "id": "db8d7677",
   "metadata": {},
   "outputs": [
    {
     "name": "stdout",
     "output_type": "stream",
     "text": [
      "[92, 72, 67]\n"
     ]
    }
   ],
   "source": [
    "all_scores = [23, 67, 92, 54, 77, 66, 72, 70]\n",
    "all_scores.sort()\n",
    "print(all_scores[-1:-6:-2])"
   ]
  },
  {
   "cell_type": "markdown",
   "id": "de3f0e6d-dba0-4999-a562-e4df33628182",
   "metadata": {},
   "source": [
    "## Lists of lists\n",
    "\n",
    "[String methods - Python documentation](https://docs.python.org/3/library/stdtypes.html#string-methods)\n",
    "\n",
    "Write a function that takes a string, counts the number of letters in each word, and returns a new list that consists of lists with two elements: each word and the number of letters (in the same order)."
   ]
  },
  {
   "cell_type": "code",
   "execution_count": 4,
   "id": "02544cba",
   "metadata": {},
   "outputs": [
    {
     "name": "stdout",
     "output_type": "stream",
     "text": [
      "[['my', 2], ['cat', 3], ['is', 2], ['fluffy', 6]]\n"
     ]
    }
   ],
   "source": [
    "def count_letters(sentence):\n",
    "    # split the sentece\n",
    "    words = sentence.split()\n",
    "\n",
    "    # create big list()\n",
    "    result = []\n",
    "\n",
    "    # for each individual word: \n",
    "    for word in words:\n",
    "        # check the length of the word\n",
    "        num_letters = len(word)\n",
    "\n",
    "        # create the small list [word, number of letters]\n",
    "        word_info = [word, num_letters]\n",
    "\n",
    "        # append the small list to the big list\n",
    "        result.append(word_info)\n",
    "    # return to the big list\n",
    "    return result\n",
    "\n",
    "\n",
    "# Testing\n",
    "my_sentence = 'my cat is fluffy'\n",
    "print(count_letters(my_sentence))\n",
    "\n",
    "# Expected: [['my', 2], ['cat', 3'], ['is', 2], ['fluffy', 6]]"
   ]
  },
  {
   "cell_type": "code",
   "execution_count": 6,
   "id": "f4acb359-55d0-490a-b9e4-845a25eb5bdf",
   "metadata": {},
   "outputs": [
    {
     "name": "stdout",
     "output_type": "stream",
     "text": [
      "[['Python', 6], ['is', 2], ['SO', 2], ['much', 4], ['fun!', 4], ['I', 1], [\"can't\", 5], ['wait', 4], ['for', 3], ['the', 3], ['next', 4], ['workshop.', 9]]\n"
     ]
    }
   ],
   "source": [
    "# Exercise:\n",
    "\n",
    "def count_letters(sentence):\n",
    "    words = sentence.split()\n",
    "    result = []\n",
    "\n",
    "    for word in words:\n",
    "        length = len(word)\n",
    "        word_list = [word, length]\n",
    "        result.append(word_list)\n",
    "\n",
    "    return result\n",
    "\n",
    "my_sentence = 'Python is SO much fun! I can\\'t wait for the next workshop.'  \n",
    "print(count_letters(my_sentence))"
   ]
  },
  {
   "cell_type": "markdown",
   "id": "c34340bd-cb74-4b21-8e22-ae9d7ba70839",
   "metadata": {},
   "source": [
    "## Calculation of $\\pi$ using Leibniz formula\n",
    "\n",
    "[Leibniz formula](https://en.wikipedia.org/wiki/Leibniz_formula_for_%CF%80)\n",
    "\n",
    "$$\n",
    "\\pi = 4 \\times \\left(1 - \\frac{1}{3} + \\frac{1}{5} - \\frac{1}{7} + \\dots\\right)\n",
    "$$\n",
    "\n",
    "Write a function that calculates and displays the accuracy of this formula up to a given term in the series."
   ]
  },
  {
   "cell_type": "code",
   "execution_count": 8,
   "id": "4eeda75e-95dc-4875-9911-7bfe461508f5",
   "metadata": {},
   "outputs": [
    {
     "name": "stdout",
     "output_type": "stream",
     "text": [
      "3.1415726535897814\n"
     ]
    }
   ],
   "source": [
    "def estimate_pi_leibniz(N):\n",
    "    pass\n",
    "\n",
    "def estimate_pi_leibniz(N):\n",
    "    pi_estimate = 0.0\n",
    "\n",
    "    for i in range(N):\n",
    "        numerator = (-1) ** i\n",
    "        denominator = 2 * i + 1\n",
    "        term = numerator / denominator\n",
    "        pi_estimate += term\n",
    "\n",
    "    pi_estimate *= 4  # Multiply by 4 to get an estimate of π\n",
    "\n",
    "    return pi_estimate\n",
    "\n",
    "\n",
    "\n",
    "# Testing\n",
    "print(estimate_pi_leibniz(50000))"
   ]
  }
 ],
 "metadata": {
  "kernelspec": {
   "display_name": "Python 3 (ipykernel)",
   "language": "python",
   "name": "python3"
  },
  "language_info": {
   "codemirror_mode": {
    "name": "ipython",
    "version": 3
   },
   "file_extension": ".py",
   "mimetype": "text/x-python",
   "name": "python",
   "nbconvert_exporter": "python",
   "pygments_lexer": "ipython3",
   "version": "3.10.10"
  }
 },
 "nbformat": 4,
 "nbformat_minor": 5
}
